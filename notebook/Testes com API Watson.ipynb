{
 "cells": [
  {
   "cell_type": "code",
   "execution_count": 2,
   "metadata": {},
   "outputs": [],
   "source": [
    "from ibm_watson import SpeechToTextV1, ApiException, NaturalLanguageUnderstandingV1\n",
    "from ibm_cloud_sdk_core.authenticators import BasicAuthenticator\n",
    "import json, os"
   ]
  },
  {
   "cell_type": "code",
   "execution_count": 3,
   "metadata": {},
   "outputs": [
    {
     "name": "stdout",
     "output_type": "stream",
     "text": [
      "{\n",
      "  \"result_index\": 0,\n",
      "  \"results\": [\n",
      "    {\n",
      "      \"final\": true,\n",
      "      \"alternatives\": [\n",
      "        {\n",
      "          \"transcript\": \"esse carro espetacular visual ind\\u00edcio com bela cabalmente que m\\u00eddia compat\\u00edvel com a droga de alto e a colocar entretanto o consumo deixa a desejar fa\\u00e7o de sete a nove quil\\u00f4metros livre na cidade com gasolina \",\n",
      "          \"confidence\": 0.86\n",
      "        }\n",
      "      ]\n",
      "    }\n",
      "  ]\n",
      "}\n"
     ]
    }
   ],
   "source": [
    "# Basic Authentication with Watson STT API\n",
    "stt_authenticator = BasicAuthenticator(\n",
    "   'apikey',\n",
    "   'qa8K2ibwTd2CoJAvrUfhSNaZL2nlrIjaafpjTxslF30C'\n",
    ")\n",
    "\n",
    "# Construct a Watson STT client with the authentication object\n",
    "stt = SpeechToTextV1(\n",
    "    authenticator=stt_authenticator\n",
    ")\n",
    "\n",
    "# Set the URL endpoint for your Watson STT client\n",
    "stt.set_service_url(\n",
    "    'https://api.us-south.speech-to-text.watson.cloud.ibm.com'\n",
    ")\n",
    "\n",
    "# Read audio file and call Watson STT API:\n",
    "with open(\n",
    "    'audio_sample.flac', 'rb'\n",
    ") as audio_file:\n",
    "    # Transcribe the audio.flac with Watson STT\n",
    "    # Recognize method API reference: \n",
    "    # https://cloud.ibm.com/apidocs/speech-to-text?code=python#recognize\n",
    "    stt_result = stt.recognize(\n",
    "        audio=audio_file,\n",
    "        content_type='audio/flac',\n",
    "        model='pt-BR_BroadbandModel'\n",
    "    ).get_result()\n",
    "\n",
    "# Print STT API call results\n",
    "print(json.dumps(stt_result, indent=2))"
   ]
  },
  {
   "cell_type": "code",
   "execution_count": 23,
   "metadata": {},
   "outputs": [
    {
     "name": "stdout",
     "output_type": "stream",
     "text": [
      "{\n",
      "  \"usage\": {\n",
      "    \"text_units\": 1,\n",
      "    \"text_characters\": 107,\n",
      "    \"features\": 1\n",
      "  },\n",
      "  \"language\": \"pt\",\n",
      "  \"entities\": [\n",
      "    {\n",
      "      \"type\": \"CONFORTO\",\n",
      "      \"text\": \"bancos\",\n",
      "      \"sentiment\": {\n",
      "        \"score\": 0,\n",
      "        \"label\": \"neutral\"\n",
      "      },\n",
      "      \"disambiguation\": {\n",
      "        \"subtype\": [\n",
      "          \"NONE\"\n",
      "        ]\n",
      "      },\n",
      "      \"count\": 1,\n",
      "      \"confidence\": 0.999637\n",
      "    },\n",
      "    {\n",
      "      \"type\": \"MODELO\",\n",
      "      \"text\": \"Argo\",\n",
      "      \"sentiment\": {\n",
      "        \"score\": -0.676244,\n",
      "        \"label\": \"negative\"\n",
      "      },\n",
      "      \"disambiguation\": {\n",
      "        \"subtype\": [\n",
      "          \"NONE\"\n",
      "        ]\n",
      "      },\n",
      "      \"count\": 1,\n",
      "      \"confidence\": 0.999395\n",
      "    },\n",
      "    {\n",
      "      \"type\": \"DESEMPENHO\",\n",
      "      \"text\": \"motor\",\n",
      "      \"sentiment\": {\n",
      "        \"score\": -0.676244,\n",
      "        \"label\": \"negative\"\n",
      "      },\n",
      "      \"disambiguation\": {\n",
      "        \"subtype\": [\n",
      "          \"NONE\"\n",
      "        ]\n",
      "      },\n",
      "      \"count\": 1,\n",
      "      \"confidence\": 0.996413\n",
      "    },\n",
      "    {\n",
      "      \"type\": \"ACESSORIOS\",\n",
      "      \"text\": \"ar-condicionado\",\n",
      "      \"sentiment\": {\n",
      "        \"score\": -0.676244,\n",
      "        \"label\": \"negative\"\n",
      "      },\n",
      "      \"disambiguation\": {\n",
      "        \"subtype\": [\n",
      "          \"NONE\"\n",
      "        ]\n",
      "      },\n",
      "      \"count\": 1,\n",
      "      \"confidence\": 0.867656\n",
      "    }\n",
      "  ]\n",
      "}\n"
     ]
    }
   ],
   "source": [
    "from ibm_watson.natural_language_understanding_v1 import Features, EntitiesOptions\n",
    "\n",
    "# Basic Authentication with Watson NLU API\n",
    "nlu_authenticator = BasicAuthenticator(\n",
    "    'apikey',\n",
    "    'skEXm4q1Mn9XLLuQBOawyrovnjER9QDMLyht__-F4QtT'\n",
    ")\n",
    "\n",
    "# Construct a Watson NLU client with the authentication object\n",
    "nlu = NaturalLanguageUnderstandingV1(\n",
    "    version='2020-08-01',\n",
    "    authenticator=nlu_authenticator\n",
    ")\n",
    "\n",
    "# Set the URL endpoint for your Watson STT client\n",
    "nlu.set_service_url(\n",
    "    'https://api.us-south.natural-language-understanding.watson.cloud.ibm.com'\n",
    ")\n",
    "\n",
    "texto = \"O Argo tem um ar-condicionado não muito eficiente e o motor também é muito ruim. Os bancos são confortávies\"\n",
    "\n",
    "\n",
    "# call Watson API\n",
    "nlu_result = nlu.analyze(\n",
    "        text=texto,\n",
    "        features=Features(entities=EntitiesOptions(sentiment=True,limit=5, model='ab9e03c9-ea05-44db-9466-5a256f6d7c3b'))\n",
    "    ).get_result()\n",
    "\n",
    "\n",
    "# Print NLU API call results\n",
    "print(json.dumps(nlu_result, indent=2))\n"
   ]
  },
  {
   "cell_type": "code",
   "execution_count": 90,
   "metadata": {},
   "outputs": [
    {
     "name": "stdout",
     "output_type": "stream",
     "text": [
      "Argo\n",
      "{'CONFORTO': 0, 'DESEMPENHO': -0.676244, 'ACESSORIOS': -0.676244}\n",
      "[{'entity': 'CONFORTO', 'sentiment': 0, 'mention': 'bancos'}, {'entity': 'MODELO', 'sentiment': -0.676244, 'mention': 'Argo'}, {'entity': 'DESEMPENHO', 'sentiment': -0.676244, 'mention': 'motor'}, {'entity': 'ACESSORIOS', 'sentiment': -0.676244, 'mention': 'ar-condicionado'}]\n"
     ]
    }
   ],
   "source": [
    "entidades = nlu_result['entities']\n",
    "\n",
    "# primeiro criar um set, com as entidades e modelos\n",
    "\n",
    "rank_entidades = dict()\n",
    "result_entidades = []\n",
    "modelo = ''\n",
    "\n",
    "for entidade in entidades:\n",
    "    ent = entidade['type']\n",
    "    sent = entidade['sentiment']['score']\n",
    "    mention = entidade['text']\n",
    "    if (ent != 'MODELO'):\n",
    "        if ent in rank_entidades:\n",
    "            if sent < rank_entidades[ent]:\n",
    "                rank_entidades[ent] = sent\n",
    "        else:\n",
    "            rank_entidades[ent] = sent\n",
    "    else:\n",
    "        modelo = mention\n",
    "            \n",
    "    result_entidades.append({'entity': ent, \n",
    "                            'sentiment': sent, \n",
    "                           'mention': mention})\n",
    "\n",
    "print(modelo)\n",
    "print(rank_entidades)\n",
    "print(result_entidades)"
   ]
  },
  {
   "cell_type": "code",
   "execution_count": 60,
   "metadata": {},
   "outputs": [],
   "source": [
    "prioridades = {\n",
    "    'SEGURANCA': 1,\n",
    "    'CONSUMO': 2,\n",
    "    'DESEMPENHO': 3,\n",
    "    'MANUTENCAO': 4,\n",
    "    'CONFORTO': 5,\n",
    "    'DESIGN': 6,\n",
    "    'ACESSORIOS': 7\n",
    "              }"
   ]
  },
  {
   "cell_type": "code",
   "execution_count": 62,
   "metadata": {},
   "outputs": [],
   "source": [
    "sugestoes = {\n",
    "    'SEGURANCA': ['FIAT 500','DUCATO', 'RENEGADE'],\n",
    "    'CONSUMO': ['ARGO', 'TORO', 'DUCATO'],\n",
    "    'DESEMPENHO': ['ARGO', 'CRONOS', 'MAREA'],\n",
    "    'MANUTENCAO': ['FIORINO', 'CRONOS', 'ARGO'],\n",
    "    'CONFORTO': ['ARGO', 'CRONOS', 'TORO'],\n",
    "    'DESIGN': ['FIAT 500', 'ARGO', 'RENEGADE'],\n",
    "    'ACESSORIOS': ['RENEGADE', 'ARGO', 'TORO']    \n",
    "}"
   ]
  },
  {
   "cell_type": "code",
   "execution_count": 86,
   "metadata": {},
   "outputs": [
    {
     "name": "stdout",
     "output_type": "stream",
     "text": [
      "-0.676244\n"
     ]
    }
   ],
   "source": [
    "menor = rank_entidades[min(rank_entidades, key=rank_entidades.get)]\n",
    "print(menor)"
   ]
  },
  {
   "cell_type": "code",
   "execution_count": 105,
   "metadata": {},
   "outputs": [],
   "source": [
    "#rank_entidades['CONSUMO'] = -0.576243"
   ]
  },
  {
   "cell_type": "code",
   "execution_count": 106,
   "metadata": {},
   "outputs": [
    {
     "data": {
      "text/plain": [
       "{'DESEMPENHO': 3, 'ACESSORIOS': 7}"
      ]
     },
     "execution_count": 106,
     "metadata": {},
     "output_type": "execute_result"
    }
   ],
   "source": [
    "#most_negatives = {k: v for k, v in rank_entidades.items() if v == min}\n",
    "most_negatives = {k: prioridades[k] for k, v in rank_entidades.items() if abs(v - menor) < 0.1}\n",
    "most_negatives"
   ]
  },
  {
   "cell_type": "code",
   "execution_count": 84,
   "metadata": {},
   "outputs": [
    {
     "data": {
      "text/plain": [
       "['ARGO', 'CRONOS', 'MAREA']"
      ]
     },
     "execution_count": 84,
     "metadata": {},
     "output_type": "execute_result"
    }
   ],
   "source": [
    "recomendado = sugestoes[min(most_negatives, key = most_negatives.get)]\n",
    "recomendado"
   ]
  },
  {
   "cell_type": "code",
   "execution_count": 75,
   "metadata": {},
   "outputs": [],
   "source": [
    "retorno = {\n",
    "    'recommendation': '',\n",
    "}"
   ]
  },
  {
   "cell_type": "code",
   "execution_count": 80,
   "metadata": {},
   "outputs": [
    {
     "data": {
      "text/plain": [
       "{'recommendation': 'ARGO',\n",
       " 'entities': [{'entity': 'CONFORTO', 'sentiment': 0, 'mention': 'bancos'},\n",
       "  {'entity': 'MODELO', 'sentiment': -0.68, 'mention': 'Argo'},\n",
       "  {'entity': 'DESEMPENHO', 'sentiment': -0.68, 'mention': 'motor'},\n",
       "  {'entity': 'ACESSORIOS', 'sentiment': -0.68, 'mention': 'ar-condicionado'}]}"
      ]
     },
     "execution_count": 80,
     "metadata": {},
     "output_type": "execute_result"
    }
   ],
   "source": [
    "retorno['recommendation'] = recomendado[0]\n",
    "retorno['entities'] = result_entidades\n",
    "\n",
    "retorno"
   ]
  },
  {
   "cell_type": "code",
   "execution_count": null,
   "metadata": {},
   "outputs": [],
   "source": []
  }
 ],
 "metadata": {
  "kernelspec": {
   "display_name": "Python 3",
   "language": "python",
   "name": "python3"
  },
  "language_info": {
   "codemirror_mode": {
    "name": "ipython",
    "version": 3
   },
   "file_extension": ".py",
   "mimetype": "text/x-python",
   "name": "python",
   "nbconvert_exporter": "python",
   "pygments_lexer": "ipython3",
   "version": "3.7.8"
  }
 },
 "nbformat": 4,
 "nbformat_minor": 4
}
